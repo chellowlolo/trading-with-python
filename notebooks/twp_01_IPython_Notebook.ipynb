{
 "metadata": {
  "name": "twp_01_IPython_Notebook"
 },
 "nbformat": 3,
 "nbformat_minor": 0,
 "worksheets": [
  {
   "cells": [
    {
     "cell_type": "markdown",
     "metadata": {},
     "source": [
      "# Getting to know IPython notebook.\n",
      "\n",
      "Jev Kuznetsov (jev@tradingwithpython.com). \n",
      "\n",
      "This notebook is a part of [Trading With Python](http://www.tradingwithpython.com) course.\n",
      "\n",
      "## What is an IPython notebook ##\n",
      ">The IPython Notebook is a web-based interactive computational environment where you can combine code execution, text, mathematics, plots and rich media into a single document\n",
      "\n",
      "It was inspired by math software like Mathematica and Maple. IPython makes working with interactive code easy. You can now do (financial) research in the same manner as you would write a document, by combining written ideas, code and output to a single document. \n",
      "\n",
      "We will be using the notebook for the interactive research work. A conventional editor or an [IDE](http://en.wikipedia.org/wiki/Integrated_development_environment) will be used for writing python modules.\n",
      "\n",
      "A typical workflow is:\n",
      "Prototype in notebook -> Create module in IDE -> Reuse functions in notebook\n"
     ]
    },
    {
     "cell_type": "markdown",
     "metadata": {},
     "source": [
      "##Getting around##\n",
      "The notebook consists of 'cells', each cell is a short section of code or text. "
     ]
    },
    {
     "cell_type": "raw",
     "metadata": {},
     "source": [
      "The text can be just simple raw text."
     ]
    },
    {
     "cell_type": "markdown",
     "metadata": {},
     "source": [
      "Or rich formatted text using the [Markdown](http://en.wikipedia.org/wiki/Markdown) language. \n",
      "\n",
      "You can interact with a cell by using the menu above or use keyboar shortcuts:\n",
      "\n",
      "* _Double click_ on a cell to edit it.\n",
      "* _Ctrl-Enter_ to run the code and advance to the next cell\n",
      "* _Shift-Enter_ to run the cell code.\n",
      "\n",
      "To get hint about keyboard shortcuts, press _Ctrl-m h_ \n"
     ]
    },
    {
     "cell_type": "markdown",
     "metadata": {},
     "source": [
      "## Before we begin ##\n",
      "\n",
      "There are some specific IPython system commands which are called [cell magics](http://nbviewer.ipython.org/url/github.com/ipython/ipython/raw/master/examples/notebooks/Cell%20Magics.ipynb). A cell magic normally starts with a `%` sign\n"
     ]
    },
    {
     "cell_type": "code",
     "collapsed": false,
     "input": [
      "# text after'#' is a comment, it is not executed\n",
      "# let's get current location\n",
      "%pwd"
     ],
     "language": "python",
     "metadata": {},
     "outputs": [
      {
       "output_type": "pyout",
       "prompt_number": 1,
       "text": [
        "u'D:\\\\My Dropbox\\\\Consulting\\\\TradingWithPython2\\\\notebooks'"
       ]
      }
     ],
     "prompt_number": 1
    },
    {
     "cell_type": "markdown",
     "metadata": {},
     "source": [
      "another handy command is `ls` for listing files in the current directory"
     ]
    },
    {
     "cell_type": "code",
     "collapsed": false,
     "input": [
      "ls"
     ],
     "language": "python",
     "metadata": {},
     "outputs": [
      {
       "output_type": "stream",
       "stream": "stdout",
       "text": [
        " Volume in drive D is Data\n",
        " Volume Serial Number is FEFE-8A7E\n",
        "\n",
        " Directory of D:\\My Dropbox\\Consulting\\TradingWithPython2\\notebooks\n",
        "\n",
        "08-Sep-13  02:12 PM    <DIR>          .\n",
        "08-Sep-13  02:12 PM    <DIR>          ..\n",
        "08-Sep-13  07:14 PM            10,778 twp_01_IPython_Notebook.ipynb\n",
        "08-Sep-13  07:20 PM           234,833 twp_02_Leveraged_etfs.ipynb\n",
        "14-Apr-13  10:11 PM            10,536 twp_03_Working_with_modules.ipynb\n",
        "15-Apr-13  10:32 PM           274,035 twp_04_Day_seasonality.ipynb\n",
        "25-Apr-13  11:36 PM            67,123 twp_05_Reading_csv_files.ipynb\n",
        "26-Apr-13  12:20 AM           171,195 twp_06_Building_a_stock_database.ipynb\n",
        "29-Apr-13  08:39 PM            90,780 twp_07_Sharpe_and_drawdown.ipynb\n",
        "29-Apr-13  09:05 PM           301,692 twp_08_moving_averages_strat.ipynb\n",
        "28-Apr-13  06:32 PM           198,551 twp_09_permanent_portfolio.ipynb\n",
        "29-Apr-13  09:07 PM           208,163 twp_10_xlp_strategy.ipynb\n",
        "02-May-13  11:54 PM         4,384,498 twp_11_spread_trading_strategy.ipynb\n",
        "              11 File(s)      5,952,184 bytes\n",
        "               2 Dir(s)  176,208,478,208 bytes free\n"
       ]
      }
     ],
     "prompt_number": 2
    },
    {
     "cell_type": "markdown",
     "metadata": {},
     "source": [
      "#Overview of python basics#\n",
      "let's take a look at some Python basics that you should know by now.\n",
      "If you encounter something you are unfamiliar with, please take a look at [learnpython.org](http://www.learnpython.org)\n",
      "\n",
      "You should also take a look at these chapters of the [Python for Data Analysys (PDA) book](http://shop.oreilly.com/product/0636920023784.do)\n",
      "\n",
      "* Chapter 3: IPython: An Interactive Computing and Development Environment\n",
      "* Appendix: Python Language Essentials\n"
     ]
    },
    {
     "cell_type": "code",
     "collapsed": false,
     "input": [
      "#printing is easy:\n",
      "print \"Hello world!\""
     ],
     "language": "python",
     "metadata": {},
     "outputs": [
      {
       "output_type": "stream",
       "stream": "stdout",
       "text": [
        "Hello world!\n"
       ]
      }
     ],
     "prompt_number": 3
    },
    {
     "cell_type": "code",
     "collapsed": false,
     "input": [
      "# simple variables\n",
      "a = 3\n",
      "b = 'some text'\n",
      "c = 3.0\n",
      "\n",
      "print a, b, c\n"
     ],
     "language": "python",
     "metadata": {},
     "outputs": [
      {
       "output_type": "stream",
       "stream": "stdout",
       "text": [
        "3 some text 3.0\n"
       ]
      }
     ],
     "prompt_number": 4
    },
    {
     "cell_type": "code",
     "collapsed": false,
     "input": [
      "#lists\n",
      "L = [1,2,3]\n",
      "print L\n",
      "\n",
      "L = range(20)\n",
      "print L\n"
     ],
     "language": "python",
     "metadata": {},
     "outputs": [
      {
       "output_type": "stream",
       "stream": "stdout",
       "text": [
        "[1, 2, 3]\n",
        "[0, 1, 2, 3, 4, 5, 6, 7, 8, 9, 10, 11, 12, 13, 14, 15, 16, 17, 18, 19]\n"
       ]
      }
     ],
     "prompt_number": 5
    },
    {
     "cell_type": "markdown",
     "metadata": {},
     "source": [
      "to get help for `range` function just type `range?`"
     ]
    },
    {
     "cell_type": "code",
     "collapsed": false,
     "input": [
      "#what is range\n",
      "range?"
     ],
     "language": "python",
     "metadata": {},
     "outputs": [],
     "prompt_number": 6
    },
    {
     "cell_type": "markdown",
     "metadata": {},
     "source": [
      "You can remove the help popup by dragging it down or double-clicking on the division line."
     ]
    },
    {
     "cell_type": "code",
     "collapsed": false,
     "input": [
      "#dictionaries\n",
      "d = {'one':1,'two':2,'label':5}\n",
      "print type(d)\n",
      "print \"Value at 'two' is \", d['two']"
     ],
     "language": "python",
     "metadata": {},
     "outputs": [
      {
       "output_type": "stream",
       "stream": "stdout",
       "text": [
        "<type 'dict'>\n",
        "Value at 'two' is  2\n"
       ]
      }
     ],
     "prompt_number": 7
    },
    {
     "cell_type": "code",
     "collapsed": false,
     "input": [
      "#loops\n",
      "primes = [2,3,5,7]\n",
      "for prime in primes:\n",
      "    print prime\n"
     ],
     "language": "python",
     "metadata": {},
     "outputs": [
      {
       "output_type": "stream",
       "stream": "stdout",
       "text": [
        "2\n",
        "3\n",
        "5\n",
        "7\n"
       ]
      }
     ],
     "prompt_number": 8
    },
    {
     "cell_type": "code",
     "collapsed": false,
     "input": [
      "#functions\n",
      "def my_function(n):\n",
      "    print \"number:\", n\n",
      "    \n",
      "my_function(20)\n",
      "    \n"
     ],
     "language": "python",
     "metadata": {},
     "outputs": [
      {
       "output_type": "stream",
       "stream": "stdout",
       "text": [
        "number: 20\n"
       ]
      }
     ],
     "prompt_number": 9
    },
    {
     "cell_type": "code",
     "collapsed": false,
     "input": [
      "#classes\n",
      "class MyClass:\n",
      "      variable = \"blah\"\n",
      "\n",
      "      def function(self):\n",
      "           print \"This is a message inside the class.\"\n",
      "            \n",
      "c = MyClass()           \n",
      "c.function()"
     ],
     "language": "python",
     "metadata": {},
     "outputs": [
      {
       "output_type": "stream",
       "stream": "stdout",
       "text": [
        "This is a message inside the class.\n"
       ]
      }
     ],
     "prompt_number": 10
    },
    {
     "cell_type": "code",
     "collapsed": false,
     "input": [
      "1/0"
     ],
     "language": "python",
     "metadata": {},
     "outputs": [
      {
       "ename": "ZeroDivisionError",
       "evalue": "integer division or modulo by zero",
       "output_type": "pyerr",
       "traceback": [
        "\u001b[1;31m---------------------------------------------------------------------------\u001b[0m\n\u001b[1;31mZeroDivisionError\u001b[0m                         Traceback (most recent call last)",
        "\u001b[1;32m<ipython-input-11-05c9758a9c21>\u001b[0m in \u001b[0;36m<module>\u001b[1;34m()\u001b[0m\n\u001b[1;32m----> 1\u001b[1;33m \u001b[1;36m1\u001b[0m\u001b[1;33m/\u001b[0m\u001b[1;36m0\u001b[0m\u001b[1;33m\u001b[0m\u001b[0m\n\u001b[0m",
        "\u001b[1;31mZeroDivisionError\u001b[0m: integer division or modulo by zero"
       ]
      }
     ],
     "prompt_number": 11
    },
    {
     "cell_type": "markdown",
     "metadata": {},
     "source": [
      "This is basically a *very* short overview of python programming language, which is not very special except for the clear syntax. In the next session we'll take a look at what makes Python so powerful for scientific and financial applications: numpy."
     ]
    }
   ],
   "metadata": {}
  }
 ]
}