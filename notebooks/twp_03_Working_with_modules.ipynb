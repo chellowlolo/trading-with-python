{
 "metadata": {
  "name": "twp_03_Working_with_modules"
 },
 "nbformat": 3,
 "nbformat_minor": 0,
 "worksheets": [
  {
   "cells": [
    {
     "cell_type": "markdown",
     "metadata": {},
     "source": [
      "#Working with modules#\n",
      "\n",
      "Before you run this notebook, please download the [yahooFinance.py](https://dl.dropboxusercontent.com/u/11352905/notebooks/yahooFinance.py) module and save it in the same directory as this notebook.\n",
      "\n",
      "Then you can import it by using the `import` command.\n",
      "*Note:* we are using `import as` command, which allowes us to use a shorthand notation of the library name. This way you only need to type `yf` instead of `yahooFinance` in further code. Another advantage is that the module can be *reloaded* (handy if you change the module code) without restarting the interpreter."
     ]
    },
    {
     "cell_type": "code",
     "collapsed": false,
     "input": [
      "import yahooFinance as yf  # import "
     ],
     "language": "python",
     "metadata": {},
     "outputs": [],
     "prompt_number": 1
    },
    {
     "cell_type": "markdown",
     "metadata": {},
     "source": [
      "Now let's take a look at the module documentation"
     ]
    },
    {
     "cell_type": "code",
     "collapsed": false,
     "input": [
      "help(yf)"
     ],
     "language": "python",
     "metadata": {},
     "outputs": [
      {
       "output_type": "stream",
       "stream": "stdout",
       "text": [
        "Help on module yahooFinance:\n",
        "\n",
        "NAME\n",
        "    yahooFinance - Toolset working with yahoo finance data\n",
        "\n",
        "FILE\n",
        "    d:\\my dropbox\\public\\notebooks\\yahoofinance.py\n",
        "\n",
        "DESCRIPTION\n",
        "    This module includes functions for easy access to YahooFinance data\n",
        "    \n",
        "    Functions\n",
        "    ----------\n",
        "    - `getHistoricData`  get historic data for a single symbol\n",
        "    - `getQuote` get current quote for a symbol\n",
        "    - `getScreenerSymbols` load symbols from a yahoo stock screener file\n",
        "    \n",
        "    Classes\n",
        "    ---------\n",
        "    - `HistData` a class for working with multiple symbols\n",
        "\n",
        "CLASSES\n",
        "    __builtin__.object\n",
        "        HistData\n",
        "    \n",
        "    class HistData(__builtin__.object)\n",
        "     |  a class for working with yahoo finance data\n",
        "     |  \n",
        "     |  Methods defined here:\n",
        "     |  \n",
        "     |  __init__(self, autoAdjust=True)\n",
        "     |  \n",
        "     |  __repr__(self)\n",
        "     |  \n",
        "     |  downloadData(self, symbols='all')\n",
        "     |      get data from yahoo\n",
        "     |  \n",
        "     |  getDataFrame(self, field='close')\n",
        "     |      return a slice on wide panel for a given field\n",
        "     |  \n",
        "     |  load(self, dataFile)\n",
        "     |      load data from HDF\n",
        "     |  \n",
        "     |  save(self, dataFile)\n",
        "     |      save data to HDF\n",
        "     |  \n",
        "     |  ----------------------------------------------------------------------\n",
        "     |  Data descriptors defined here:\n",
        "     |  \n",
        "     |  __dict__\n",
        "     |      dictionary for instance variables (if defined)\n",
        "     |  \n",
        "     |  __weakref__\n",
        "     |      list of weak references to the object (if defined)\n",
        "     |  \n",
        "     |  symbols\n",
        "\n",
        "FUNCTIONS\n",
        "    getHistoricData(symbol, sDate=(1990, 1, 1), eDate=(2013, 4, 14), verbose=True)\n",
        "        get data from Yahoo finance and return pandas dataframe\n",
        "        \n",
        "        symbol: Yahoo finanance symbol\n",
        "        sDate: start date (y,m,d)\n",
        "        eDate: end date (y,m,d)\n",
        "    \n",
        "    getQuote(symbols)\n",
        "        get current yahoo quote\n",
        "        \n",
        "        \n",
        "        , return a DataFrame\n",
        "    \n",
        "    getScreenerSymbols(fileName)\n",
        "        read symbols from a .csv saved by yahoo stock screener\n",
        "\n",
        "\n"
       ]
      }
     ],
     "prompt_number": 2
    },
    {
     "cell_type": "markdown",
     "metadata": {},
     "source": [
      "Show a list of all names defined in the package"
     ]
    },
    {
     "cell_type": "code",
     "collapsed": false,
     "input": [
      "dir(yf)"
     ],
     "language": "python",
     "metadata": {},
     "outputs": [
      {
       "output_type": "pyout",
       "prompt_number": 3,
       "text": [
        "['DataFrame',\n",
        " 'HDFStore',\n",
        " 'HistData',\n",
        " 'Index',\n",
        " 'WidePanel',\n",
        " '__builtins__',\n",
        " '__doc__',\n",
        " '__file__',\n",
        " '__name__',\n",
        " '__package__',\n",
        " '_adjust',\n",
        " '_historicDataUrll',\n",
        " 'date',\n",
        " 'datetime',\n",
        " 'getHistoricData',\n",
        " 'getQuote',\n",
        " 'getScreenerSymbols',\n",
        " 'np',\n",
        " 'os',\n",
        " 'urllib2']"
       ]
      }
     ],
     "prompt_number": 3
    },
    {
     "cell_type": "markdown",
     "metadata": {},
     "source": [
      "Let's run some functions from the module"
     ]
    },
    {
     "cell_type": "code",
     "collapsed": false,
     "input": [
      "yf.getQuote(['SPY','QQQ','AAPL']) # get last available quote from Yahoo"
     ],
     "language": "python",
     "metadata": {},
     "outputs": [
      {
       "html": [
        "<div style=\"max-height:1000px;max-width:1500px;overflow:auto;\">\n",
        "<table border=\"1\" class=\"dataframe\">\n",
        "  <thead>\n",
        "    <tr style=\"text-align: right;\">\n",
        "      <th></th>\n",
        "      <th>PE</th>\n",
        "      <th>change_pct</th>\n",
        "      <th>last</th>\n",
        "      <th>short_ratio</th>\n",
        "      <th>time</th>\n",
        "    </tr>\n",
        "  </thead>\n",
        "  <tbody>\n",
        "    <tr>\n",
        "      <td><strong>SPY</strong></td>\n",
        "      <td>  NaN</td>\n",
        "      <td> -0.24%</td>\n",
        "      <td> 158.80</td>\n",
        "      <td> NaN</td>\n",
        "      <td> 4:00pm</td>\n",
        "    </tr>\n",
        "    <tr>\n",
        "      <td><strong>QQQ</strong></td>\n",
        "      <td>  NaN</td>\n",
        "      <td> -0.07%</td>\n",
        "      <td>  69.94</td>\n",
        "      <td> NaN</td>\n",
        "      <td> 4:00pm</td>\n",
        "    </tr>\n",
        "    <tr>\n",
        "      <td><strong>AAPL</strong></td>\n",
        "      <td> 9.85</td>\n",
        "      <td> -1.04%</td>\n",
        "      <td> 429.80</td>\n",
        "      <td> 1.2</td>\n",
        "      <td> 4:00pm</td>\n",
        "    </tr>\n",
        "  </tbody>\n",
        "</table>\n",
        "</div>"
       ],
       "output_type": "pyout",
       "prompt_number": 4,
       "text": [
        "        PE change_pct    last  short_ratio    time\n",
        "SPY    NaN     -0.24%  158.80          NaN  4:00pm\n",
        "QQQ    NaN     -0.07%   69.94          NaN  4:00pm\n",
        "AAPL  9.85     -1.04%  429.80          1.2  4:00pm"
       ]
      }
     ],
     "prompt_number": 4
    },
    {
     "cell_type": "code",
     "collapsed": false,
     "input": [
      "df = yf.getHistoricData('SPY',(2012,1,1)) # get daily historic data from Yahoo\n",
      "\n",
      "print df.tail(20) # print last 20 days of data table\n"
     ],
     "language": "python",
     "metadata": {},
     "outputs": [
      {
       "output_type": "stream",
       "stream": "stdout",
       "text": [
        "Got 320 days of data\n",
        "            adj_close   close    high     low    open     volume\n",
        "2013-03-15     155.83  155.83  156.04  155.31  155.85  138601100\n",
        "2013-03-18     154.97  154.97  155.64  154.20  154.34  126704300\n",
        "2013-03-19     154.61  154.61  155.51  153.59  155.30  167567300\n",
        "2013-03-20     155.69  155.69  155.95  155.26  155.52  113759300\n",
        "2013-03-21     154.36  154.36  155.64  154.10  154.76  128605000\n",
        "2013-03-22     155.60  155.60  155.60  154.73  154.85  111163600\n",
        "2013-03-25     154.95  154.95  156.27  154.35  156.01  151322300\n",
        "2013-03-26     156.19  156.19  156.23  155.42  155.59   86856600\n",
        "2013-03-27     156.19  156.19  156.24  155.00  155.26   99950600\n",
        "2013-03-28     156.67  156.67  156.85  155.75  156.09  102932800\n",
        "2013-04-01     156.05  156.05  156.91  155.67  156.59   99194100\n",
        "2013-04-02     156.82  156.82  157.21  156.37  156.61  101504300\n",
        "2013-04-03     155.23  155.23  157.03  154.82  156.91  154167400\n",
        "2013-04-04     155.86  155.86  156.17  155.09  155.43  131885000\n",
        "2013-04-05     155.16  155.16  155.35  153.77  153.95  159645300\n",
        "2013-04-08     156.21  156.21  156.22  154.75  155.27   86450000\n",
        "2013-04-09     156.75  156.75  157.32  155.98  156.50  100805700\n",
        "2013-04-10     158.67  158.67  158.87  157.13  157.17  135157000\n",
        "2013-04-11     159.19  159.19  159.71  158.54  158.70  110046600\n",
        "2013-04-12     158.80  158.80  159.04  157.92  158.68  116342000\n"
       ]
      }
     ],
     "prompt_number": 5
    },
    {
     "cell_type": "markdown",
     "metadata": {},
     "source": [
      "By importing the `yahooFinance` module you can access functions for working with yahoo finance. The good thing about modules is that you don't even have to know *how* they work or what is inside them. The only thing you need is a little bit of documentation about the contained functionality.\n",
      "\n",
      "We will be taking a closer look *inside* the `yahooFinance.py` next week. "
     ]
    }
   ],
   "metadata": {}
  }
 ]
}